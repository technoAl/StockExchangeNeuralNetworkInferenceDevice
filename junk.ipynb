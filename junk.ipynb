{
 "cells": [
  {
   "cell_type": "code",
   "execution_count": 7,
   "metadata": {},
   "outputs": [],
   "source": [
    "for i in range(100):\n",
    "    with open(\"JunkText/\"+str(i)+\".txt\", mode=\"w\") as file:\n",
    "        if(i%2 == 0):\n",
    "            file.write(\"You are cool\")\n",
    "        else:\n",
    "            file.write(\"You are lame\")"
   ]
  },
  {
   "cell_type": "code",
   "execution_count": 13,
   "metadata": {},
   "outputs": [],
   "source": [
    "a = []\n",
    "for i in range(100):\n",
    "    with open(\"JunkText/\"+str(i)+\".txt\", mode=\"r\") as file:\n",
    "        a.append(str(file.read()))"
   ]
  },
  {
   "cell_type": "code",
   "execution_count": 14,
   "metadata": {},
   "outputs": [
    {
     "name": "stdout",
     "output_type": "stream",
     "text": [
      "['You are cool', 'You are lame', 'You are cool', 'You are lame', 'You are cool', 'You are lame', 'You are cool', 'You are lame', 'You are cool', 'You are lame', 'You are cool', 'You are lame', 'You are cool', 'You are lame', 'You are cool', 'You are lame', 'You are cool', 'You are lame', 'You are cool', 'You are lame', 'You are cool', 'You are lame', 'You are cool', 'You are lame', 'You are cool', 'You are lame', 'You are cool', 'You are lame', 'You are cool', 'You are lame', 'You are cool', 'You are lame', 'You are cool', 'You are lame', 'You are cool', 'You are lame', 'You are cool', 'You are lame', 'You are cool', 'You are lame', 'You are cool', 'You are lame', 'You are cool', 'You are lame', 'You are cool', 'You are lame', 'You are cool', 'You are lame', 'You are cool', 'You are lame', 'You are cool', 'You are lame', 'You are cool', 'You are lame', 'You are cool', 'You are lame', 'You are cool', 'You are lame', 'You are cool', 'You are lame', 'You are cool', 'You are lame', 'You are cool', 'You are lame', 'You are cool', 'You are lame', 'You are cool', 'You are lame', 'You are cool', 'You are lame', 'You are cool', 'You are lame', 'You are cool', 'You are lame', 'You are cool', 'You are lame', 'You are cool', 'You are lame', 'You are cool', 'You are lame', 'You are cool', 'You are lame', 'You are cool', 'You are lame', 'You are cool', 'You are lame', 'You are cool', 'You are lame', 'You are cool', 'You are lame', 'You are cool', 'You are lame', 'You are cool', 'You are lame', 'You are cool', 'You are lame', 'You are cool', 'You are lame', 'You are cool', 'You are lame']\n"
     ]
    }
   ],
   "source": [
    "print(a)"
   ]
  },
  {
   "cell_type": "code",
   "execution_count": null,
   "metadata": {},
   "outputs": [],
   "source": []
  }
 ],
 "metadata": {
  "kernelspec": {
   "display_name": "Python 3",
   "language": "python",
   "name": "python3"
  },
  "language_info": {
   "codemirror_mode": {
    "name": "ipython",
    "version": 3
   },
   "file_extension": ".py",
   "mimetype": "text/x-python",
   "name": "python",
   "nbconvert_exporter": "python",
   "pygments_lexer": "ipython3",
   "version": "3.7.3"
  }
 },
 "nbformat": 4,
 "nbformat_minor": 2
}
