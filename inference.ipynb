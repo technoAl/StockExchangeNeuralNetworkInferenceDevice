{
 "cells": [
  {
   "cell_type": "code",
   "execution_count": 1,
   "metadata": {},
   "outputs": [],
   "source": [
    "import requests\n",
    "import json\n",
    "from bs4 import BeautifulSoup\n",
    "from newsapi.newsapi_client import NewsApiClient\n",
    "import os\n",
    "import requests\n",
    "from datetime import datetime\n",
    "import csv\n",
    "#lxml parser is also needed to run bs4 code"
   ]
  },
  {
   "cell_type": "code",
   "execution_count": 2,
   "metadata": {},
   "outputs": [],
   "source": [
    "def obtainArticleContent(code, year, month, day): # grabs and saves the 100 files of content/new articles for the neural net to interpret\n",
    "    inputData = []\n",
    "    date = str(year) + '-' + str(month) + '-' + str(day)\n",
    "    query = getQuery(code)\n",
    "    if not isWeekday(datetime(year, month, day)):# stocks are not open on weekends, it skips this\n",
    "        print('weekend, no stocks today')\n",
    "        return\n",
    "    url = makeURL(date, query, 100)# Calls make URL\n",
    "    data = getData(url)# Calls get Data\n",
    "    if data == None:\n",
    "        return\n",
    "    for i in data:\n",
    "        tmpDict = dict(i)\n",
    "        try:\n",
    "            page = requests.get(tmpDict['url'])\n",
    "        except:\n",
    "            print('page failed')\n",
    "        if page.status_code == 200:# 200 means success\n",
    "            soup = BeautifulSoup(page.content, \"lxml\") # uses lxml parser\n",
    "            all_tags = soup.find_all('p')# Finds all <p> tags\n",
    "            for i in all_tags:\n",
    "                try:\n",
    "                    inputData.append(i.get_text())# adds all to the list\n",
    "                except Exception as inst:\n",
    "                    print('character error')\n",
    "        else:\n",
    "            print(\"unfortunate failure, page failure\")\n",
    "    return inputData # returns the data"
   ]
  },
  {
   "cell_type": "code",
   "execution_count": 3,
   "metadata": {},
   "outputs": [],
   "source": [
    "def getData(url): # uses response to parse the internet for each data page\n",
    "    try:\n",
    "        response = requests.get(url)\n",
    "        data = response.json()\n",
    "        data = data['articles']\n",
    "        return data\n",
    "    except:\n",
    "        print('unfortunate failure')\n",
    "        return"
   ]
  },
  {
   "cell_type": "code",
   "execution_count": 4,
   "metadata": {},
   "outputs": [],
   "source": [
    "#makes the url in the format newapi prefers\n",
    "def makeURL(query, date, pageSize):\n",
    "    return ('https://newsapi.org/v2/everything?'\n",
    "            'q=' + query + '&'\n",
    "            'from=' + date + '&'\n",
    "            'sortBy=popularity&'\n",
    "            'pageSize=' + str(pageSize) + '&'\n",
    "            'apiKey=13bd628fa8b548738d3b113d9442574e&'\n",
    "            'language=en')\n",
    "\n",
    "#checks if the day is a weekday, if not don't do anything\n",
    "def isWeekday(today):\n",
    "    if today.weekday() >= 5:\n",
    "        return False\n",
    "    else:\n",
    "        return True"
   ]
  },
  {
   "cell_type": "code",
   "execution_count": 5,
   "metadata": {},
   "outputs": [],
   "source": [
    "#gets query from the stock code\n",
    "def getQuery(code):\n",
    "    return get_symbol(code).split(',')[0]\n",
    "\n",
    "def get_symbol(symbol):\n",
    "    url = \"http://d.yimg.com/autoc.finance.yahoo.com/autoc?query={}&region=1&lang=en\".format(symbol)\n",
    "    result = requests.get(url).json()\n",
    "    for x in result['ResultSet']['Result']:\n",
    "        if x['symbol'] == symbol:\n",
    "            return x['name']"
   ]
  },
  {
   "cell_type": "code",
   "execution_count": 6,
   "metadata": {},
   "outputs": [],
   "source": [
    "inputData = obtainArticleContent('MSFT', 2020, 3, 4) # example data collection"
   ]
  },
  {
   "cell_type": "code",
   "execution_count": 7,
   "metadata": {},
   "outputs": [],
   "source": [
    "import mygrad as mg\n",
    "import numpy as np\n",
    "from mynn.layers.dense import dense\n",
    "from mynn.initializers.glorot_normal import glorot_normal\n",
    "from mynn.optimizers.adam import Adam\n",
    "from mygrad.nnet.losses import softmax_crossentropy\n",
    "from gensim.models.keyedvectors import KeyedVectors\n",
    "from noggin import create_plot\n",
    "from mygrad.nnet.layers import gru\n",
    "#install numba as well"
   ]
  },
  {
   "cell_type": "code",
   "execution_count": 8,
   "metadata": {},
   "outputs": [],
   "source": [
    "params = np.load(\"model.npy\", allow_pickle=True) # loads trained model"
   ]
  },
  {
   "cell_type": "code",
   "execution_count": 9,
   "metadata": {},
   "outputs": [],
   "source": [
    "class RNN:  # The RNN class, which passes the data through a gated recurrent unit to convert each sentence into an array\n",
    "    def __init__(self, dim_input, dim_recurrent, dim_output):\n",
    "        \"\"\" Initializes all layers needed for RNN\n",
    "\n",
    "        Parameters\n",
    "        ----------\n",
    "        dim_input: int\n",
    "            Dimensionality of data passed to RNN (C)\n",
    "\n",
    "        dim_recurrent: int\n",
    "            Dimensionality of hidden state in RNN (D)\n",
    "\n",
    "        dim_output: int\n",
    "            Dimensionality of output of RNN (K)\n",
    "        \"\"\"\n",
    "\n",
    "        self.fc_h2y = dense(dim_recurrent, dim_output, weight_initializer=glorot_normal)\n",
    "        self.Uz = mg.Tensor(\n",
    "            np.random.randn(dim_input * dim_recurrent).reshape(dim_input, dim_recurrent)\n",
    "        )\n",
    "        self.Wz = mg.Tensor(\n",
    "            np.random.randn(dim_recurrent * dim_recurrent).reshape(\n",
    "                dim_recurrent, dim_recurrent\n",
    "            )\n",
    "        )\n",
    "        self.bz = mg.Tensor(np.random.randn(dim_recurrent))\n",
    "        self.Ur = mg.Tensor(\n",
    "            np.random.randn(dim_input * dim_recurrent).reshape(dim_input, dim_recurrent)\n",
    "        )\n",
    "        self.Wr = mg.Tensor(\n",
    "            np.random.randn(dim_recurrent * dim_recurrent).reshape(\n",
    "                dim_recurrent, dim_recurrent\n",
    "            )\n",
    "        )\n",
    "        self.br = mg.Tensor(np.random.randn(dim_recurrent))\n",
    "        self.Uh = mg.Tensor(\n",
    "            np.random.randn(dim_input * dim_recurrent).reshape(dim_input, dim_recurrent)\n",
    "        )\n",
    "        self.Wh = mg.Tensor(\n",
    "            np.random.randn(dim_recurrent * dim_recurrent).reshape(\n",
    "                dim_recurrent, dim_recurrent\n",
    "            )\n",
    "        )\n",
    "        self.bh = mg.Tensor(np.random.randn(dim_recurrent))\n",
    "\n",
    "    def __call__(self, x):\n",
    "        \"\"\" Performs the full forward pass for the RNN.\n",
    "\n",
    "        Note that we only care about the last y - the final classification scores for the full sequence\n",
    "\n",
    "        Parameters\n",
    "        ----------\n",
    "        x: Union[numpy.ndarray, mygrad.Tensor], shape=(T, C)\n",
    "            The one-hot encodings for the sequence\n",
    "\n",
    "        Returns\n",
    "        -------\n",
    "        mygrad.Tensor, shape=(1, K)\n",
    "            The final classification of the sequence\n",
    "        \"\"\"\n",
    "\n",
    "        h = mg.nnet.layers.gru(\n",
    "            x,\n",
    "            self.Uz,\n",
    "            self.Wz,\n",
    "            self.bz,\n",
    "            self.Ur,\n",
    "            self.Wr,\n",
    "            self.br,\n",
    "            self.Uh,\n",
    "            self.Wh,\n",
    "            self.bh,\n",
    "        )\n",
    "        return self.fc_h2y(h[-1])\n",
    "\n",
    "    @property\n",
    "    def parameters(self):\n",
    "        \"\"\" A convenience function for getting all the parameters of our model.\n",
    "\n",
    "        This can be accessed as an attribute, via `model.parameters`\n",
    "\n",
    "        Returns\n",
    "        -------\n",
    "        Tuple[Tensor, ...]\n",
    "            A tuple containing all of the learnable parameters for our model\n",
    "        \"\"\"\n",
    "        return self.fc_h2y.parameters + (\n",
    "        self.Uz, self.Wz, self.bz, self.Ur, self.Wr, self.br, self.Uh, self.Wh, self.bh)\n"
   ]
  },
  {
   "cell_type": "code",
   "execution_count": 10,
   "metadata": {},
   "outputs": [],
   "source": [
    "model = RNN(50,16,2)\n",
    "model.fc_h2y.weight, model.fc_h2y.bias, model.Uz, model.Wz, model.bz, model.Ur, model.Wr, model.br, model.Uh, model.Wh, model.bh= (\n",
    "        params[0],\n",
    "        params[1],\n",
    "        params[2],\n",
    "        params[3],\n",
    "        params[4],\n",
    "        params[5],\n",
    "        params[6],\n",
    "        params[7],\n",
    "        params[8],\n",
    "        params[9],\n",
    "        params[10]\n",
    "    )"
   ]
  },
  {
   "cell_type": "code",
   "execution_count": 11,
   "metadata": {},
   "outputs": [],
   "source": [
    "glove = KeyedVectors.load_word2vec_format(\"glove.6B.50d.txt.w2v\", binary=False)"
   ]
  },
  {
   "cell_type": "code",
   "execution_count": 12,
   "metadata": {},
   "outputs": [],
   "source": [
    "MAXLEN = 100\n",
    "def to_glove(sentence):\n",
    "    out = []\n",
    "    for word in sentence.split():\n",
    "        word = word.lower()\n",
    "        try:\n",
    "            out.append(glove[word])\n",
    "        except:\n",
    "            continue\n",
    "    if len(out) > MAXLEN:\n",
    "        out = out[:MAXLEN]\n",
    "    elif len(out) < MAXLEN:\n",
    "        for _ in range(len(out), MAXLEN):\n",
    "            out.append(np.zeros(50))\n",
    "    if len(out) != MAXLEN:\n",
    "        print(\"Failure\")\n",
    "    return out"
   ]
  },
  {
   "cell_type": "code",
   "execution_count": 13,
   "metadata": {},
   "outputs": [],
   "source": [
    "Keys = [\"UP\", \"DOWN\"]"
   ]
  },
  {
   "cell_type": "code",
   "execution_count": 14,
   "metadata": {
    "scrolled": true
   },
   "outputs": [],
   "source": [
    "\"\"\"\n",
    "Takes in a single sentence and runs inference to determine whether the stock value will increase or decrease\n",
    "\"\"\"\n",
    "\n",
    "def predict(sentence):\n",
    "    sentence = to_glove(sentence)\n",
    "    w = np.ascontiguousarray(np.swapaxes(np.array(sentence).reshape(1, 100, 50), 0, 1))\n",
    "    pred = Keys[np.argmax(model(w))]\n",
    "    print(pred)"
   ]
  },
  {
   "cell_type": "code",
   "execution_count": 15,
   "metadata": {},
   "outputs": [],
   "source": [
    "\"\"\"\n",
    "Takes in a list of sentences about a given stock and determines whether the value of the stock will increase or decrease depending on whether there are more positive results or more negative results\n",
    "\"\"\"\n",
    "def predict(multiple_sentences):\n",
    "    good = 0\n",
    "    bad = 0\n",
    "    pred = 0\n",
    "    for sentence in multiple_sentences:\n",
    "        sentence = to_glove(sentence)\n",
    "        w = np.ascontiguousarray(np.swapaxes(np.array(sentence).reshape(1, 100, 50), 0, 1))\n",
    "        pred = np.argmax(model(w))\n",
    "        if pred==1:\n",
    "            good +=1\n",
    "        else:\n",
    "            bad += 1\n",
    "    if good > bad:\n",
    "        pred = Keys[1]\n",
    "        print(pred, good/(good+bad)*100, \"percent surity\")\n",
    "    else:\n",
    "        pred = Keys[0]\n",
    "        print(pred, bad/(good+bad)*100, \"percent surity\")\n",
    "    "
   ]
  },
  {
   "cell_type": "code",
   "execution_count": 16,
   "metadata": {},
   "outputs": [
    {
     "name": "stdout",
     "output_type": "stream",
     "text": [
      "DOWN 98.65405602037104 percent surity\n"
     ]
    }
   ],
   "source": [
    "predict(inputData)"
   ]
  },
  {
   "cell_type": "code",
   "execution_count": null,
   "metadata": {},
   "outputs": [],
   "source": []
  }
 ],
 "metadata": {
  "kernelspec": {
   "display_name": "Python 3",
   "language": "python",
   "name": "python3"
  },
  "language_info": {
   "codemirror_mode": {
    "name": "ipython",
    "version": 3
   },
   "file_extension": ".py",
   "mimetype": "text/x-python",
   "name": "python",
   "nbconvert_exporter": "python",
   "pygments_lexer": "ipython3",
   "version": "3.6.8"
  }
 },
 "nbformat": 4,
 "nbformat_minor": 2
}
