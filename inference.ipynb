{
 "cells": [
  {
   "cell_type": "code",
   "execution_count": 1,
   "metadata": {},
   "outputs": [],
   "source": [
    "import mygrad as mg\n",
    "import numpy as np\n",
    "from mynn.layers.dense import dense\n",
    "from mynn.initializers.glorot_normal import glorot_normal\n",
    "from mynn.optimizers.adam import Adam\n",
    "from mygrad.nnet.losses import softmax_crossentropy\n",
    "from gensim.models.keyedvectors import KeyedVectors\n",
    "from noggin import create_plot"
   ]
  },
  {
   "cell_type": "code",
   "execution_count": 2,
   "metadata": {},
   "outputs": [],
   "source": [
    "params = np.load(\"model.npy\", allow_pickle=True)"
   ]
  },
  {
   "cell_type": "code",
   "execution_count": 3,
   "metadata": {},
   "outputs": [],
   "source": [
    "class RNN:  # The RNN class, which passes the data through a gated recurrent unit to convert each sentence into an array\n",
    "    def __init__(self, dim_input, dim_recurrent, dim_output):\n",
    "        \"\"\" Initializes all layers needed for RNN\n",
    "\n",
    "        Parameters\n",
    "        ----------\n",
    "        dim_input: int\n",
    "            Dimensionality of data passed to RNN (C)\n",
    "\n",
    "        dim_recurrent: int\n",
    "            Dimensionality of hidden state in RNN (D)\n",
    "\n",
    "        dim_output: int\n",
    "            Dimensionality of output of RNN (K)\n",
    "        \"\"\"\n",
    "\n",
    "        self.fc_h2y = dense(dim_recurrent, dim_output, weight_initializer=glorot_normal)\n",
    "        self.Uz = mg.Tensor(\n",
    "            np.random.randn(dim_input * dim_recurrent).reshape(dim_input, dim_recurrent)\n",
    "        )\n",
    "        self.Wz = mg.Tensor(\n",
    "            np.random.randn(dim_recurrent * dim_recurrent).reshape(\n",
    "                dim_recurrent, dim_recurrent\n",
    "            )\n",
    "        )\n",
    "        self.bz = mg.Tensor(np.random.randn(dim_recurrent))\n",
    "        self.Ur = mg.Tensor(\n",
    "            np.random.randn(dim_input * dim_recurrent).reshape(dim_input, dim_recurrent)\n",
    "        )\n",
    "        self.Wr = mg.Tensor(\n",
    "            np.random.randn(dim_recurrent * dim_recurrent).reshape(\n",
    "                dim_recurrent, dim_recurrent\n",
    "            )\n",
    "        )\n",
    "        self.br = mg.Tensor(np.random.randn(dim_recurrent))\n",
    "        self.Uh = mg.Tensor(\n",
    "            np.random.randn(dim_input * dim_recurrent).reshape(dim_input, dim_recurrent)\n",
    "        )\n",
    "        self.Wh = mg.Tensor(\n",
    "            np.random.randn(dim_recurrent * dim_recurrent).reshape(\n",
    "                dim_recurrent, dim_recurrent\n",
    "            )\n",
    "        )\n",
    "        self.bh = mg.Tensor(np.random.randn(dim_recurrent))\n",
    "\n",
    "    def __call__(self, x):\n",
    "        \"\"\" Performs the full forward pass for the RNN.\n",
    "\n",
    "        Note that we only care about the last y - the final classification scores for the full sequence\n",
    "\n",
    "        Parameters\n",
    "        ----------\n",
    "        x: Union[numpy.ndarray, mygrad.Tensor], shape=(T, C)\n",
    "            The one-hot encodings for the sequence\n",
    "\n",
    "        Returns\n",
    "        -------\n",
    "        mygrad.Tensor, shape=(1, K)\n",
    "            The final classification of the sequence\n",
    "        \"\"\"\n",
    "\n",
    "        h = mg.nnet.gru(\n",
    "            x,\n",
    "            self.Uz,\n",
    "            self.Wz,\n",
    "            self.bz,\n",
    "            self.Ur,\n",
    "            self.Wr,\n",
    "            self.br,\n",
    "            self.Uh,\n",
    "            self.Wh,\n",
    "            self.bh,\n",
    "        )\n",
    "        return self.fc_h2y(h[-1])\n",
    "\n",
    "    @property\n",
    "    def parameters(self):\n",
    "        \"\"\" A convenience function for getting all the parameters of our model.\n",
    "\n",
    "        This can be accessed as an attribute, via `model.parameters`\n",
    "\n",
    "        Returns\n",
    "        -------\n",
    "        Tuple[Tensor, ...]\n",
    "            A tuple containing all of the learnable parameters for our model\n",
    "        \"\"\"\n",
    "        return self.fc_h2y.parameters + (\n",
    "        self.Uz, self.Wz, self.bz, self.Ur, self.Wr, self.br, self.Uh, self.Wh, self.bh)\n"
   ]
  },
  {
   "cell_type": "code",
   "execution_count": 4,
   "metadata": {},
   "outputs": [],
   "source": [
    "model = RNN(50,16,2)\n",
    "model.fc_h2y.weight, model.fc_h2y.bias, model.Uz, model.Wz, model.bz, model.Ur, model.Wr, model.br, model.Uh, model.Wh, model.bh= (\n",
    "        params[0],\n",
    "        params[1],\n",
    "        params[2],\n",
    "        params[3],\n",
    "        params[4],\n",
    "        params[5],\n",
    "        params[6],\n",
    "        params[7],\n",
    "        params[8],\n",
    "        params[9],\n",
    "        params[10]\n",
    "    )"
   ]
  },
  {
   "cell_type": "code",
   "execution_count": 5,
   "metadata": {},
   "outputs": [],
   "source": [
    "glove = KeyedVectors.load_word2vec_format(\"glove.6B.50d.txt.w2v\", binary=False)"
   ]
  },
  {
   "cell_type": "code",
   "execution_count": 6,
   "metadata": {},
   "outputs": [],
   "source": [
    "MAXLEN = 100\n",
    "def to_glove(sentence):\n",
    "    out = []\n",
    "    for word in sentence.split():\n",
    "        word = word.lower()\n",
    "        try:\n",
    "            out.append(glove[word])\n",
    "        except:\n",
    "            continue\n",
    "    if len(out) > MAXLEN:\n",
    "        out = out[:MAXLEN]\n",
    "    elif len(out) < MAXLEN:\n",
    "        for _ in range(len(out), MAXLEN):\n",
    "            out.append(np.zeros(50))\n",
    "    if len(out) != MAXLEN:\n",
    "        print(\"BAAAAAAAAD\")\n",
    "    return out"
   ]
  },
  {
   "cell_type": "code",
   "execution_count": 21,
   "metadata": {},
   "outputs": [],
   "source": [
    "Keys = [\"UP\", \"DOWN\"]"
   ]
  },
  {
   "cell_type": "code",
   "execution_count": 22,
   "metadata": {
    "scrolled": true
   },
   "outputs": [],
   "source": [
    "\"\"\"\n",
    "Takes in a single sentence and runs inference to determine whether the stock value will increase or decrease\n",
    "\"\"\"\n",
    "\n",
    "def predict(sentence):\n",
    "    sentence = to_glove(sentence)\n",
    "    w = np.ascontiguousarray(np.swapaxes(np.array(sentence).reshape(1, 100, 50), 0, 1))\n",
    "    pred = Keys[np.argmax(model(w))]\n",
    "    print(pred)"
   ]
  },
  {
   "cell_type": "code",
   "execution_count": 23,
   "metadata": {},
   "outputs": [],
   "source": [
    "\"\"\"\n",
    "Takes in a list of sentences about a given stock and determines whether the value of the stock will increase or decrease depending on whether there are more positive results or more negative results\n",
    "\"\"\"\n",
    "def predict(multiple_sentences):\n",
    "    good = 0\n",
    "    bad = 0\n",
    "    pred = 0\n",
    "    for sentence in multiple_sentences:\n",
    "        sentence = to_glove(sentence)\n",
    "        w = np.ascontiguousarray(np.swapaxes(np.array(sentence).reshape(1, 100, 50), 0, 1))\n",
    "        pred = np.argmax(model(w))\n",
    "        if pred==1:\n",
    "            good +=1\n",
    "        else:\n",
    "            bad += 1\n",
    "    if good > bad:\n",
    "        pred = Keys[1]\n",
    "        print(pred, good/(good+bad)*100, \"percent sure\")\n",
    "    else:\n",
    "        pred = Keys[0]\n",
    "        print(pred, bad/(good+bad)*100, \"percent sure\")\n",
    "    "
   ]
  },
  {
   "cell_type": "code",
   "execution_count": 24,
   "metadata": {},
   "outputs": [
    {
     "name": "stdout",
     "output_type": "stream",
     "text": [
      "DOWN 100.0 percent sure\n"
     ]
    }
   ],
   "source": [
    "predict([\"Elon Musk died today\", \"I like pie\"])"
   ]
  },
  {
   "cell_type": "code",
   "execution_count": null,
   "metadata": {},
   "outputs": [],
   "source": []
  }
 ],
 "metadata": {
  "kernelspec": {
   "display_name": "Python 3",
   "language": "python",
   "name": "python3"
  },
  "language_info": {
   "codemirror_mode": {
    "name": "ipython",
    "version": 3
   },
   "file_extension": ".py",
   "mimetype": "text/x-python",
   "name": "python",
   "nbconvert_exporter": "python",
   "pygments_lexer": "ipython3",
   "version": "3.7.4"
  }
 },
 "nbformat": 4,
 "nbformat_minor": 2
}
